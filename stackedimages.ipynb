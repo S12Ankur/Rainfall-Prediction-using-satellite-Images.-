{
  "nbformat": 4,
  "nbformat_minor": 0,
  "metadata": {
    "colab": {
      "provenance": []
    },
    "kernelspec": {
      "name": "python3",
      "display_name": "Python 3"
    },
    "language_info": {
      "name": "python"
    }
  },
  "cells": [
    {
      "cell_type": "code",
      "execution_count": 1,
      "metadata": {
        "colab": {
          "base_uri": "https://localhost:8080/"
        },
        "id": "S4dIdXAgvy3i",
        "outputId": "4f18086a-b6f5-4577-dee4-68942535e0a5"
      },
      "outputs": [
        {
          "output_type": "stream",
          "name": "stdout",
          "text": [
            "Mounted at /content/drive\n"
          ]
        }
      ],
      "source": [
        "from google.colab import drive\n",
        "drive.mount('/content/drive')"
      ]
    },
    {
      "cell_type": "code",
      "source": [
        "import PIL"
      ],
      "metadata": {
        "id": "TRYZlYWRyUBo"
      },
      "execution_count": 2,
      "outputs": []
    },
    {
      "cell_type": "code",
      "source": [
        "import os"
      ],
      "metadata": {
        "id": "c2V94Y31yUHX"
      },
      "execution_count": 8,
      "outputs": []
    },
    {
      "cell_type": "code",
      "source": [],
      "metadata": {
        "id": "POXeX188v3HA"
      },
      "execution_count": null,
      "outputs": []
    },
    {
      "cell_type": "code",
      "source": [
        "from PIL import Image, ImageOps\n",
        "\n",
        "def pad_image(inputfolder, desired_size,outputfolder):\n",
        "    \"\"\"\n",
        "    Pad an image to the desired size.\n",
        "\n",
        "    Parameters:\n",
        "        image (PIL.Image): The input image.\n",
        "        desired_size (tuple): The desired size (width, height) of the padded image.\n",
        "\n",
        "    Returns:\n",
        "        PIL.Image: The padded image.\n",
        "    \"\"\"\n",
        "    for filename in os.listdir(inputfolder):\n",
        "        # Check if the file is an image\n",
        "        if filename.endswith(('.png', '.jpg', '.jpeg', '.gif')):\n",
        "          with Image.open(os.path.join(inputfolder, filename)) as img:\n",
        "           old_size = img.size\n",
        "           delta_width = desired_size[0] - old_size[0]\n",
        "           delta_height = desired_size[1] - old_size[1]\n",
        "           padding = (delta_width // 2, delta_height // 2, delta_width - (delta_width // 2), delta_height - (delta_height // 2))\n",
        "           padded_image = ImageOps.expand(img, padding, fill='white')\n",
        "           padded_image.save(os.path.join(outputfolder, filename))\n",
        "   # return padded_image\n",
        "\n",
        "# Example usage:\n",
        "inputfolder = \"/content/drive/MyDrive/preprocessed data/wvjulycropped\"\n",
        "outputfolder = \"/content/drive/MyDrive/preprocessed data/wvjulypadded\"\n",
        "#input_image = Image.open(\"/content/3RIMG_01FEB2023_0715_L1C_SGP_WV_V01R00.jpg\")\n",
        "desired_size = (95, 75)  # Set the desired size (width, height) of the padded image\n",
        "pad_image(inputfolder, desired_size,outputfolder)\n",
        "#padded_image.save(\"padded_imagewv.jpg\")"
      ],
      "metadata": {
        "id": "Z63E3mxXv3MO"
      },
      "execution_count": 9,
      "outputs": []
    },
    {
      "cell_type": "code",
      "source": [
        "inputfolder = \"/content/drive/MyDrive/preprocessed data/ir1julycropped\"\n",
        "outputfolder = \"/content/drive/MyDrive/preprocessed data/ir1julypadded\"\n",
        "#input_image = Image.open(\"/content/3RIMG_01FEB2023_0715_L1C_SGP_WV_V01R00.jpg\")\n",
        "desired_size = (95, 75)  # Set the desired size (width, height) of the padded image\n",
        "pad_image(inputfolder, desired_size,outputfolder)"
      ],
      "metadata": {
        "id": "7Rfy5xomv3O8"
      },
      "execution_count": 11,
      "outputs": []
    },
    {
      "cell_type": "code",
      "source": [
        "inputfolder = \"/content/drive/MyDrive/preprocessed data/ir2julycropped\"\n",
        "outputfolder = \"/content/drive/MyDrive/preprocessed data/ir2julypadded\"\n",
        "#input_image = Image.open(\"/content/3RIMG_01FEB2023_0715_L1C_SGP_WV_V01R00.jpg\")\n",
        "desired_size = (95, 75)  # Set the desired size (width, height) of the padded image\n",
        "pad_image(inputfolder, desired_size,outputfolder)"
      ],
      "metadata": {
        "id": "6BKBIdRUv3Rf"
      },
      "execution_count": 12,
      "outputs": []
    },
    {
      "cell_type": "code",
      "source": [
        "inputfolder = \"/content/drive/MyDrive/preprocessed data/mirjulycropped\"\n",
        "outputfolder = \"/content/drive/MyDrive/preprocessed data/mirjulypadded\"\n",
        "#input_image = Image.open(\"/content/3RIMG_01FEB2023_0715_L1C_SGP_WV_V01R00.jpg\")\n",
        "desired_size = (95, 75)  # Set the desired size (width, height) of the padded image\n",
        "pad_image(inputfolder, desired_size,outputfolder)"
      ],
      "metadata": {
        "id": "STxWcN16v3UH"
      },
      "execution_count": 14,
      "outputs": []
    },
    {
      "cell_type": "code",
      "source": [
        "inputfolder = \"/content/drive/MyDrive/preprocessed data/swirjulycropped\"\n",
        "outputfolder = \"/content/drive/MyDrive/preprocessed data/swirjulypadded\"\n",
        "#input_image = Image.open(\"/content/3RIMG_01FEB2023_0715_L1C_SGP_WV_V01R00.jpg\")\n",
        "desired_size = (95, 75)  # Set the desired size (width, height) of the padded image\n",
        "pad_image(inputfolder, desired_size,outputfolder)"
      ],
      "metadata": {
        "id": "9496wZHqv3Wy"
      },
      "execution_count": 15,
      "outputs": []
    },
    {
      "cell_type": "code",
      "source": [
        "inputfolder = \"/content/drive/MyDrive/preprocessed data/visjulycropped\"\n",
        "outputfolder = \"/content/drive/MyDrive/preprocessed data/visjulypadded\"\n",
        "#input_image = Image.open(\"/content/3RIMG_01FEB2023_0715_L1C_SGP_WV_V01R00.jpg\")\n",
        "desired_size = (95, 75)  # Set the desired size (width, height) of the padded image\n",
        "pad_image(inputfolder, desired_size,outputfolder)"
      ],
      "metadata": {
        "id": "s7oL70zev3ZT"
      },
      "execution_count": 16,
      "outputs": []
    },
    {
      "cell_type": "code",
      "source": [],
      "metadata": {
        "id": "mRKfTWIiv3cD"
      },
      "execution_count": null,
      "outputs": []
    },
    {
      "cell_type": "code",
      "source": [
        "file_path = '/content/drive/MyDrive/preprocessed data/ir1julypadded/3RIMG_01AUG2023_0745_L1C_SGP_IR1_V01R00.jpg'\n",
        "file_name = os.path.basename(file_path)\n",
        "print(file_name)  # Output: test.txt"
      ],
      "metadata": {
        "colab": {
          "base_uri": "https://localhost:8080/"
        },
        "id": "GEXwPTf4v3eu",
        "outputId": "2d29ccc1-6d93-4a99-e3ef-acaaaf8b0ecf"
      },
      "execution_count": 17,
      "outputs": [
        {
          "output_type": "stream",
          "name": "stdout",
          "text": [
            "3RIMG_01AUG2023_0745_L1C_SGP_IR1_V01R00.jpg\n"
          ]
        }
      ]
    },
    {
      "cell_type": "code",
      "source": [
        "file_name[6:10]\n"
      ],
      "metadata": {
        "colab": {
          "base_uri": "https://localhost:8080/",
          "height": 35
        },
        "id": "w3LCbeTbv3hh",
        "outputId": "9f12642f-b74e-4f3f-e428-daaca146b236"
      },
      "execution_count": 22,
      "outputs": [
        {
          "output_type": "execute_result",
          "data": {
            "text/plain": [
              "'01AU'"
            ],
            "application/vnd.google.colaboratory.intrinsic+json": {
              "type": "string"
            }
          },
          "metadata": {},
          "execution_count": 22
        }
      ]
    },
    {
      "cell_type": "code",
      "source": [
        "inputfolder1 ='/content/drive/MyDrive/preprocessed data/ir1julycropped'\n",
        "for filename in os.listdir(inputfolder1):\n",
        "  print(filename[6:11])\n"
      ],
      "metadata": {
        "id": "WOEJwb6vv3lT"
      },
      "execution_count": null,
      "outputs": []
    },
    {
      "cell_type": "code",
      "source": [
        "import matplotlib.pyplot as plt\n",
        "from matplotlib.pyplot import figure\n",
        "\n"
      ],
      "metadata": {
        "id": "nuh6bBmnSuBV"
      },
      "execution_count": 32,
      "outputs": []
    },
    {
      "cell_type": "code",
      "source": [
        "def add_images(input1,input2,input3,input4,input5,input6,outputfolder1):\n",
        "  for filename in os.listdir(input1):\n",
        "    nameseq = filename[6:11]\n",
        "    filename11 = nameseq+\".jpg\"\n",
        "    with Image.open(os.path.join(input1, filename)) as img:\n",
        "      width, height = img.size\n",
        "      concatenated_image = Image.new('RGB', (width * 3, height * 2))\n",
        "      concatenated_image.paste(img, (0, 0))\n",
        "      #concatenated_image.save(outputfolder1,filename1)\n",
        "    for filename1 in os.listdir(input2):\n",
        "      if nameseq in filename1:\n",
        "        with Image.open(os.path.join(input2, filename1)) as img1:\n",
        "          concatenated_image.paste(img1, (width, 0))\n",
        "    for filename2 in os.listdir(input3):\n",
        "      if nameseq in filename2:\n",
        "        with Image.open(os.path.join(input3, filename2)) as img2:\n",
        "          concatenated_image.paste(img2, (2*width, 0))\n",
        "    for filename3 in os.listdir(input4):\n",
        "      if nameseq in filename3:\n",
        "        with Image.open(os.path.join(input4, filename3)) as img3:\n",
        "          concatenated_image.paste(img3, (0, height))\n",
        "    for filename4 in os.listdir(input5):\n",
        "      if nameseq in filename4:\n",
        "        with Image.open(os.path.join(input5, filename4)) as img4:\n",
        "          concatenated_image.paste(img4, (width, height))\n",
        "    for filename5 in os.listdir(input6):\n",
        "      if nameseq in filename5:\n",
        "        with Image.open(os.path.join(input6, filename5)) as img5:\n",
        "          concatenated_image.paste(img5, (2 * width, height))\n",
        "          concatenated_image.save(os.path.join(outputfolder1,filename11))\n",
        "\n",
        "input1 = \"/content/drive/MyDrive/preprocessed data/ir1julypadded\"\n",
        "input2 = \"/content/drive/MyDrive/preprocessed data/ir2julypadded\"\n",
        "input3 = \"/content/drive/MyDrive/preprocessed data/mirjulypadded\"\n",
        "input4 = \"/content/drive/MyDrive/preprocessed data/swirjulypadded\"\n",
        "input5 = \"/content/drive/MyDrive/preprocessed data/visjulypadded\"\n",
        "input6 = \"/content/drive/MyDrive/preprocessed data/wvjulypadded\"\n",
        "outputfolder1 = \"/content/drive/MyDrive/preprocessed data/outputfolder1\"\n",
        "add_images(input1,input2,input3,input4,input5,input6,outputfolder1)\n",
        "\n",
        "\n",
        "\n",
        "\n"
      ],
      "metadata": {
        "id": "RDBfeI2LIjEI"
      },
      "execution_count": 39,
      "outputs": []
    },
    {
      "cell_type": "code",
      "source": [],
      "metadata": {
        "id": "Q-6NXfXFIjJL"
      },
      "execution_count": null,
      "outputs": []
    },
    {
      "cell_type": "code",
      "source": [],
      "metadata": {
        "id": "bcyxVVEeIjMA"
      },
      "execution_count": null,
      "outputs": []
    }
  ]
}